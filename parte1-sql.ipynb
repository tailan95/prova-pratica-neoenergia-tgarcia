{
 "cells": [
  {
   "cell_type": "markdown",
   "metadata": {
    "application/vnd.databricks.v1+cell": {
     "cellMetadata": {
      "byteLimit": 2048000,
      "rowLimit": 10000
     },
     "inputWidgets": {},
     "nuid": "d5ded2ad-b168-41ab-bc3b-cf29f897cb6b",
     "showTitle": false,
     "tableResultSettingsMap": {},
     "title": ""
    }
   },
   "source": [
    "# SQL\n",
    "## Contexto: \n",
    "Você tem a tabela “vendas” com as colunas:\n",
    "- id_venda (int);\n",
    "- id_cliente (int); \n",
    "- data_venda (date); \n",
    "- valor (decimal);\n",
    "- canal (varchar: 'online', 'loja', 'parceiro').\n"
   ]
  },
  {
   "cell_type": "code",
   "execution_count": 0,
   "metadata": {
    "application/vnd.databricks.v1+cell": {
     "cellMetadata": {
      "byteLimit": 2048000,
      "rowLimit": 10000
     },
     "inputWidgets": {},
     "nuid": "872a331f-3d29-47f5-bd3a-fd1408322c14",
     "showTitle": true,
     "tableResultSettingsMap": {},
     "title": "Dados sintéticos: vendas"
    }
   },
   "outputs": [],
   "source": [
    "import pandas as pd\n",
    "import numpy as np\n",
    "from datetime import datetime, timedelta\n",
    "\n",
    "# Criar dados sintéticos em Pandas\n",
    "np.random.seed(42)\n",
    "n = 1000  # número de vendas sintéticas\n",
    "\n",
    "# Gerar colunas\n",
    "id_venda = np.arange(1, n+1)\n",
    "id_cliente = np.random.randint(101, 201, size=n)  # 100 clientes distintos\n",
    "data_venda = pd.to_datetime(np.random.choice(pd.date_range(\"2023-01-01\", \"2025-09-01\"), size=n))\n",
    "valor = np.round(np.random.uniform(10, 1000, size=n), 2)\n",
    "canal = np.random.choice(['online', 'loja', 'parceiro'], size=n, p=[0.5, 0.3, 0.2])\n",
    "\n",
    "# Criar DataFrame\n",
    "vendas_df = pd.DataFrame({\n",
    "    'id_venda': id_venda,\n",
    "    'id_cliente': id_cliente,\n",
    "    'data_venda': data_venda,\n",
    "    'valor': valor,\n",
    "    'canal': canal\n",
    "})\n",
    "\n",
    "# Converter para Spark DataFrame\n",
    "vendas_df = spark.createDataFrame(vendas_df)\n",
    "vendas_df.createOrReplaceTempView(\"vendas\")\n",
    "display(vendas_df)\n"
   ]
  },
  {
   "cell_type": "code",
   "execution_count": 0,
   "metadata": {
    "application/vnd.databricks.v1+cell": {
     "cellMetadata": {
      "byteLimit": 2048000,
      "rowLimit": 10000
     },
     "inputWidgets": {},
     "nuid": "c3c4d25c-e7c3-4710-8fd9-4953bfb46215",
     "showTitle": true,
     "tableResultSettingsMap": {},
     "title": "Dados sintéticos: vendas"
    }
   },
   "outputs": [],
   "source": [
    "np.random.seed(42)\n",
    "n_clientes = 120  # 100 clientes com vendas + 20 extras\n",
    "\n",
    "id_clientes = np.arange(101, n_clientes+101)\n",
    "\n",
    "# Listas simples de nomes e sobrenomes\n",
    "primeiros_nomes = [\"Ana\", \"Bruno\", \"Carlos\", \"Daniela\", \"Eduardo\", \"Fernanda\", \"Gabriel\", \"Helena\", \"Igor\", \"Julia\"]\n",
    "sobrenomes = [\"Silva\", \"Santos\", \"Oliveira\", \"Souza\", \"Costa\", \"Pereira\", \"Rodrigues\", \"Almeida\", \"Lima\", \"Gomes\"]\n",
    "\n",
    "# Gerar nomes aleatórios combinando primeiro nome + sobrenome\n",
    "nomes = [f\"{np.random.choice(primeiros_nomes)} {np.random.choice(sobrenomes)}\" for _ in range(n_clientes)]\n",
    "\n",
    "# Criar pandas dataframe\n",
    "df_clientes = pd.DataFrame({\n",
    "    'id_cliente': id_clientes,\n",
    "    'nome': nomes\n",
    "})\n",
    "\n",
    "# Criar Spark DataFrame\n",
    "df_clientes = spark.createDataFrame(df_clientes)\n",
    "df_clientes.createOrReplaceTempView(\"clientes\") # Vista temporária (SQL)\n",
    "\n",
    "# Mostrar os dados\n",
    "display(df_clientes)"
   ]
  },
  {
   "cell_type": "markdown",
   "metadata": {
    "application/vnd.databricks.v1+cell": {
     "cellMetadata": {
      "byteLimit": 2048000,
      "rowLimit": 10000
     },
     "inputWidgets": {},
     "nuid": "9d117816-d37e-4e9f-8120-304e7fdb4734",
     "showTitle": false,
     "tableResultSettingsMap": {},
     "title": ""
    }
   },
   "source": [
    "## Questões: \n",
    "\n",
    "1. Escreva uma query em SQL que retorne o valor total vendido por canal em 2024. \n",
    "2. Escreva uma query em SQL que traga os 3 clientes que mais compraram (soma de valor) no ano de 2024. \n",
    "3. Escreva uma query em SQL que calcula o ticket médio (média de valor por cliente) no canal 'online' em janeiro de 2025. \n",
    "4. Escreva uma query em SQL que liste todos os clientes que não compraram nada em 2024, assumindo que existe uma tabela “clientes” com as colunas id_cliente e nome."
   ]
  },
  {
   "cell_type": "markdown",
   "metadata": {
    "application/vnd.databricks.v1+cell": {
     "cellMetadata": {
      "byteLimit": 2048000,
      "rowLimit": 10000
     },
     "inputWidgets": {},
     "nuid": "71a5f59d-87cf-48c2-b06f-a97b72734181",
     "showTitle": false,
     "tableResultSettingsMap": {},
     "title": ""
    }
   },
   "source": []
  },
  {
   "cell_type": "code",
   "execution_count": 0,
   "metadata": {
    "application/vnd.databricks.v1+cell": {
     "cellMetadata": {
      "byteLimit": 2048000,
      "implicitDf": true,
      "rowLimit": 10000
     },
     "inputWidgets": {},
     "nuid": "1411751f-e5e7-4ad9-8b3a-b9b09cc79316",
     "showTitle": true,
     "tableResultSettingsMap": {},
     "title": "SQL: valor total vendido por canal em 2024"
    }
   },
   "outputs": [],
   "source": [
    "%sql\n",
    "SELECT \n",
    "    canal,\n",
    "    ROUND(SUM(valor), 3) AS total_vendido\n",
    "FROM vendas\n",
    "WHERE YEAR(data_venda) = 2024\n",
    "GROUP BY canal\n",
    "ORDER BY total_vendido DESC;"
   ]
  },
  {
   "cell_type": "code",
   "execution_count": 0,
   "metadata": {
    "application/vnd.databricks.v1+cell": {
     "cellMetadata": {
      "byteLimit": 2048000,
      "implicitDf": true,
      "rowLimit": 10000
     },
     "inputWidgets": {},
     "nuid": "3ce65ca7-3a42-4475-b9c2-f2c9a47eb460",
     "showTitle": true,
     "tableResultSettingsMap": {},
     "title": "SQL: 3 clientes que mais compraram no ano de 2024"
    }
   },
   "outputs": [],
   "source": [
    "%sql\n",
    "SELECT \n",
    "    id_cliente,\n",
    "    ROUND(SUM(valor), 3) AS total_comprado\n",
    "FROM vendas\n",
    "WHERE YEAR(data_venda) = 2024\n",
    "GROUP BY id_cliente\n",
    "ORDER BY total_comprado DESC\n",
    "LIMIT 3;"
   ]
  },
  {
   "cell_type": "code",
   "execution_count": 0,
   "metadata": {
    "application/vnd.databricks.v1+cell": {
     "cellMetadata": {
      "byteLimit": 2048000,
      "implicitDf": true,
      "rowLimit": 10000
     },
     "inputWidgets": {},
     "nuid": "69714951-b0ca-49c1-9b79-9d25c4ab5cdb",
     "showTitle": true,
     "tableResultSettingsMap": {
      "0": {
       "dataGridStateBlob": "{\"version\":1,\"tableState\":{\"columnPinning\":{\"left\":[\"#row_number#\"],\"right\":[]},\"columnSizing\":{},\"columnVisibility\":{}},\"settings\":{\"columns\":{}},\"syncTimestamp\":1759003418198}",
       "filterBlob": null,
       "queryPlanFiltersBlob": null,
       "tableResultIndex": 0
      }
     },
     "title": "SQL: ticket médio no canal 'online' em janeiro de 2025"
    }
   },
   "outputs": [],
   "source": [
    "%sql\n",
    "SELECT \n",
    "    ROUND(AVG(valor), 3) AS avg_ticket\n",
    "FROM vendas\n",
    "WHERE canal = 'online'\n",
    "  AND YEAR(data_venda) = 2025\n",
    "  AND MONTH(data_venda) = 1;"
   ]
  },
  {
   "cell_type": "code",
   "execution_count": 0,
   "metadata": {
    "application/vnd.databricks.v1+cell": {
     "cellMetadata": {
      "byteLimit": 2048000,
      "implicitDf": true,
      "rowLimit": 10000
     },
     "inputWidgets": {},
     "nuid": "392fcd6b-28b2-4a77-b40a-a99f040af4c4",
     "showTitle": false,
     "tableResultSettingsMap": {
      "0": {
       "dataGridStateBlob": "{\"version\":1,\"tableState\":{\"columnPinning\":{\"left\":[\"#row_number#\"],\"right\":[]},\"columnSizing\":{\"nome\":112},\"columnVisibility\":{}},\"settings\":{\"columns\":{}},\"syncTimestamp\":1759096026318}",
       "filterBlob": null,
       "queryPlanFiltersBlob": null,
       "tableResultIndex": 0
      }
     },
     "title": ""
    }
   },
   "outputs": [],
   "source": [
    "%sql\n",
    "SELECT \n",
    "    c.id_cliente,\n",
    "    c.nome\n",
    "FROM clientes c\n",
    "LEFT JOIN vendas v\n",
    "    ON c.id_cliente = v.id_cliente\n",
    "   AND YEAR(v.data_venda) = 2024\n",
    "WHERE v.id_cliente IS NULL;"
   ]
  }
 ],
 "metadata": {
  "application/vnd.databricks.v1+notebook": {
   "computePreferences": null,
   "dashboards": [],
   "environmentMetadata": {
    "base_environment": "",
    "environment_version": "3"
   },
   "inputWidgetPreferences": null,
   "language": "python",
   "notebookMetadata": {
    "mostRecentlyExecutedCommandWithImplicitDF": {
     "commandId": 8531672603054111,
     "dataframes": [
      "_sqldf"
     ]
    },
    "pythonIndentUnit": 4
   },
   "notebookName": "parte1-sql",
   "widgets": {}
  },
  "language_info": {
   "name": "python"
  }
 },
 "nbformat": 4,
 "nbformat_minor": 0
}
