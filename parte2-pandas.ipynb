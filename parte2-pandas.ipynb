{
 "cells": [
  {
   "cell_type": "markdown",
   "metadata": {
    "application/vnd.databricks.v1+cell": {
     "cellMetadata": {
      "byteLimit": 2048000,
      "rowLimit": 10000
     },
     "inputWidgets": {},
     "nuid": "3301aa4d-c4b4-459a-b036-d8d79fcfab18",
     "showTitle": false,
     "tableResultSettingsMap": {},
     "title": ""
    }
   },
   "source": [
    "#Python / Pandas \n",
    "Você recebeu um dataframe df com as colunas: \n",
    "- cliente_id; \n",
    "- idade; \n",
    "- genero; \n",
    "- valor_compra; \n",
    "- data_compra."
   ]
  },
  {
   "cell_type": "code",
   "execution_count": 0,
   "metadata": {
    "application/vnd.databricks.v1+cell": {
     "cellMetadata": {
      "byteLimit": 2048000,
      "rowLimit": 10000
     },
     "inputWidgets": {},
     "nuid": "c9486d00-964b-4bd0-a431-fc3e76b9d1b8",
     "showTitle": true,
     "tableResultSettingsMap": {
      "0": {
       "dataGridStateBlob": "{\"version\":1,\"tableState\":{\"columnPinning\":{\"left\":[\"#row_number#\"],\"right\":[]},\"columnSizing\":{\"data_compra\":129},\"columnVisibility\":{}},\"settings\":{\"columns\":{}},\"syncTimestamp\":1759004394358}",
       "filterBlob": null,
       "queryPlanFiltersBlob": null,
       "tableResultIndex": 0
      }
     },
     "title": "Dados sintéticos"
    }
   },
   "outputs": [],
   "source": [
    "import matplotlib.pyplot as plt\n",
    "import pandas as pd\n",
    "import numpy as np\n",
    "\n",
    "# Definir número de amostras\n",
    "n = 500\n",
    "\n",
    "# Gerar dados sintéticos\n",
    "np.random.seed(42)\n",
    "cliente_id = np.random.randint(1, 20, size=n)\n",
    "idade = np.random.triangular(left=18, mode=25, right=75, size=n).astype(int)\n",
    "genero = np.random.choice(['Masculino', 'Feminino', 'Outro'], size=n, p=[0.25, 0.70, 0.05])\n",
    "valor_compra = np.round(np.random.normal(300, 250, size=n), 2)\n",
    "data_compra = pd.to_datetime(np.random.choice(pd.date_range(\"2023-01-01\", \"2025-09-01\"), size=n))\n",
    "\n",
    "# Criar DataFrame\n",
    "df = pd.DataFrame({\n",
    "    'cliente_id': cliente_id,\n",
    "    'idade': idade,\n",
    "    'genero': genero,\n",
    "    'valor_compra': valor_compra,\n",
    "    'data_compra': data_compra\n",
    "})\n",
    "\n",
    "# Consistência\n",
    "df = df.loc[df['valor_compra'] > 0]\n",
    "\n",
    "# Formatar datas\n",
    "df['data_compra'] = pd.to_datetime(df['data_compra']).dt.strftime('%Y-%m-%d')\n",
    "\n",
    "# Apresentar dataframe\n",
    "display(df)\n"
   ]
  },
  {
   "cell_type": "code",
   "execution_count": 0,
   "metadata": {
    "application/vnd.databricks.v1+cell": {
     "cellMetadata": {
      "byteLimit": 2048000,
      "rowLimit": 10000
     },
     "inputWidgets": {},
     "nuid": "c1959e90-94d4-4ab4-8177-b51c0e7fa645",
     "showTitle": true,
     "tableResultSettingsMap": {},
     "title": "Dados sintéticos: idades"
    }
   },
   "outputs": [],
   "source": [
    "# Plotar histograma\n",
    "plt.figure(figsize=(4.2, 2.4))\n",
    "plt.hist(df['idade'], bins=30, color='gray', alpha=0.75)\n",
    "plt.xlabel('Idade')\n",
    "plt.ylabel('Frequência')\n",
    "plt.xticks(np.arange(15, 75, 5))\n",
    "plt.show()"
   ]
  },
  {
   "cell_type": "code",
   "execution_count": 0,
   "metadata": {
    "application/vnd.databricks.v1+cell": {
     "cellMetadata": {
      "byteLimit": 2048000,
      "rowLimit": 10000
     },
     "inputWidgets": {},
     "nuid": "7392f9bd-2fb3-420f-a77b-e19dd7993da2",
     "showTitle": true,
     "tableResultSettingsMap": {},
     "title": "Dados sintéticos: gênero"
    }
   },
   "outputs": [],
   "source": [
    "# Contar número de clientes por gênero\n",
    "contagem_genero = df['genero'].value_counts()\n",
    "plt.figure(figsize=(4.2, 2.4))\n",
    "contagem_genero.plot(kind='bar', color='gray', alpha=0.75)\n",
    "plt.xlabel('Gênero')\n",
    "plt.ylabel('Número de Clientes')\n",
    "plt.xticks(rotation=0)\n",
    "plt.tight_layout()\n",
    "plt.show()"
   ]
  },
  {
   "cell_type": "code",
   "execution_count": 0,
   "metadata": {
    "application/vnd.databricks.v1+cell": {
     "cellMetadata": {
      "byteLimit": 2048000,
      "rowLimit": 10000
     },
     "inputWidgets": {},
     "nuid": "30d1c6fb-b64e-45ac-8f12-fd24a123af33",
     "showTitle": true,
     "tableResultSettingsMap": {},
     "title": "Dados sintéticos: valor das compras"
    }
   },
   "outputs": [],
   "source": [
    "# Plotar histograma\n",
    "plt.figure(figsize=(4.2, 2.4))\n",
    "plt.hist(df['valor_compra'], bins=30, color='gray', alpha=0.75)\n",
    "plt.xlabel('Compra (R$)')\n",
    "plt.ylabel('Frequência')\n",
    "plt.show()"
   ]
  },
  {
   "cell_type": "markdown",
   "metadata": {
    "application/vnd.databricks.v1+cell": {
     "cellMetadata": {
      "byteLimit": 2048000,
      "rowLimit": 10000
     },
     "inputWidgets": {},
     "nuid": "cf9b3b96-44da-43b5-b32f-6a2569c76fb9",
     "showTitle": false,
     "tableResultSettingsMap": {},
     "title": ""
    }
   },
   "source": [
    "## Questões: \n",
    "1. Escreva um código em Python usando a biblioteca pandas que calcule o valor total gasto por cliente.\n",
    "\n",
    "2. Escreva um código em Python usando a biblioteca pandas que filtre apenas \n",
    "os clientes com idade entre 25 e 40 anos e compras acima de 500 reais. \n",
    "\n",
    "3. Escreva um código em Python que cria um gráfico de barras mostrando o \n",
    "valor total de compras por faixa etária (18-25, 26-35, 36-50, 50+)\n",
    "\n",
    "4. Descreva os passos e escreva um código em Python de como realizaria uma análise exploratória para investigar se existe correlação entre o valor total de compras e a idade dos clientes ao longo dos meses. Elabore hipóteses envolvendo múltiplas variáveis, como gênero, faixa etária e valor das compras, e utilize gráficos apropriados (por exemplo, de dispersão ou calor) para ilustrar possíveis relações entre essas variáveis. Avalie quais fatores podem estar associados ao aumento do volume de compras em determinados períodos."
   ]
  },
  {
   "cell_type": "code",
   "execution_count": 0,
   "metadata": {
    "application/vnd.databricks.v1+cell": {
     "cellMetadata": {
      "byteLimit": 2048000,
      "rowLimit": 10000
     },
     "inputWidgets": {},
     "nuid": "e53263ec-8e1a-4037-9033-5865d2b1885c",
     "showTitle": true,
     "tableResultSettingsMap": {
      "0": {
       "dataGridStateBlob": "{\"version\":1,\"tableState\":{\"columnPinning\":{\"left\":[\"#row_number#\"],\"right\":[]},\"columnSizing\":{},\"columnVisibility\":{}},\"settings\":{\"columns\":{}},\"syncTimestamp\":1759004873406}",
       "filterBlob": null,
       "queryPlanFiltersBlob": null,
       "tableResultIndex": 0
      }
     },
     "title": "Pandas: valor total gasto por cliente"
    }
   },
   "outputs": [],
   "source": [
    "# Agrupar dados por cliente\n",
    "total_por_cliente = df.groupby('cliente_id', as_index=True)['valor_compra'].sum()\n",
    "total_por_cliente = total_por_cliente.to_frame(name='valor_total_gasto').reset_index().sort_values(by='valor_total_gasto', ascending=False)\n",
    "display(total_por_cliente)"
   ]
  },
  {
   "cell_type": "code",
   "execution_count": 0,
   "metadata": {
    "application/vnd.databricks.v1+cell": {
     "cellMetadata": {
      "byteLimit": 2048000,
      "rowLimit": 10000
     },
     "inputWidgets": {},
     "nuid": "f62072d9-7327-45bd-99ad-519cb003987f",
     "showTitle": true,
     "tableResultSettingsMap": {
      "0": {
       "dataGridStateBlob": "{\"version\":1,\"tableState\":{\"columnPinning\":{\"left\":[\"#row_number#\"],\"right\":[]},\"columnSizing\":{},\"columnVisibility\":{}},\"settings\":{\"columns\":{}},\"syncTimestamp\":1759085999998}",
       "filterBlob": null,
       "queryPlanFiltersBlob": null,
       "tableResultIndex": 0
      }
     },
     "title": "Pandas:  clientes com idade entre 25 e 40 anos e compras acima de 500 reais"
    }
   },
   "outputs": [],
   "source": [
    "# Filtragem dos dados\n",
    "clientes_filtrados = df.loc[\n",
    "    (df['idade'] >= 25) & \n",
    "    (df['idade'] <= 40) & \n",
    "    (df['valor_compra'] > 500)\n",
    "]\n",
    "\n",
    "# Ordenação dos resultados\n",
    "clientes_filtrados = clientes_filtrados.sort_values(\n",
    "    by='valor_compra', \n",
    "    ascending=False\n",
    ")\n",
    "\n",
    "# Apresentar o dataframe\n",
    "display(clientes_filtrados)"
   ]
  },
  {
   "cell_type": "code",
   "execution_count": 0,
   "metadata": {
    "application/vnd.databricks.v1+cell": {
     "cellMetadata": {
      "byteLimit": 2048000,
      "rowLimit": 10000
     },
     "inputWidgets": {},
     "nuid": "964a5a04-1be6-44d0-b888-b910fc5e7353",
     "showTitle": true,
     "tableResultSettingsMap": {},
     "title": "Gráfico de barras"
    }
   },
   "outputs": [],
   "source": [
    "import matplotlib.pyplot as plt\n",
    "\n",
    "# Definir faixas etárias\n",
    "bins = [18, 25, 35, 45, 55, 65, 70]\n",
    "labels = ['18-24', '25-34', '35-44', '45-54', '55-64', '65-70']\n",
    "df['faixa_etaria'] = pd.cut(df['idade'], bins=bins, labels=labels, right=False)\n",
    "\n",
    "# Calcular valor total de compras por faixa etária\n",
    "total_por_faixa = df.groupby('faixa_etaria')['valor_compra'].sum()/1000\n",
    "\n",
    "# Plotar gráfico de barras\n",
    "plt.figure(figsize=(4.2, 2.4))\n",
    "total_por_faixa.plot(kind='bar', color='gray', alpha=0.75)\n",
    "plt.xlabel('Faixa Etária')\n",
    "plt.ylabel('Valor Total (milhares R$)')\n",
    "plt.xticks(rotation=45)\n",
    "plt.grid(True, alpha=0.25)\n",
    "plt.tight_layout()\n",
    "plt.show()"
   ]
  },
  {
   "cell_type": "markdown",
   "metadata": {
    "application/vnd.databricks.v1+cell": {
     "cellMetadata": {
      "byteLimit": 2048000,
      "rowLimit": 10000
     },
     "inputWidgets": {},
     "nuid": "18c98e89-5d59-4b53-8a26-9b4c53b89bfe",
     "showTitle": false,
     "tableResultSettingsMap": {},
     "title": ""
    }
   },
   "source": [
    "## Análise Exploratória:\n",
    "\n",
    "Investigar a correlação entre o valor total de compras e a idade dos clientes ao longo dos meses, considerando também variáveis como gênero e faixa etária, buscar identificar fatores associados ao aumento do volume de compras em determinados períodos."
   ]
  },
  {
   "cell_type": "markdown",
   "metadata": {
    "application/vnd.databricks.v1+cell": {
     "cellMetadata": {
      "byteLimit": 2048000,
      "rowLimit": 10000
     },
     "inputWidgets": {},
     "nuid": "2e51402c-87b1-4579-ae26-40ebd12b36dc",
     "showTitle": false,
     "tableResultSettingsMap": {},
     "title": ""
    }
   },
   "source": [
    "### Análise do Valor Total de Compras por Gênero ao Longo do Tempo\n",
    "Investigar como o valor total de compras se distribui ao longo do tempo entre clientes do sexo masculino e feminino, identificando possíveis diferenças no comportamento de consumo por gênero\n",
    "\n",
    "**Objetivos:**\n",
    "- Visualização clara do comportamento de consumo mensal para cada gênero.\n",
    "- Possível identificação de diferenças de gastos entre homens e mulheres.\n",
    "- Permite detectar picos de consumo em determinados períodos do ano.\n"
   ]
  },
  {
   "cell_type": "code",
   "execution_count": 0,
   "metadata": {
    "application/vnd.databricks.v1+cell": {
     "cellMetadata": {
      "byteLimit": 2048000,
      "rowLimit": 10000
     },
     "inputWidgets": {},
     "nuid": "09594c80-3807-4cc3-91f5-009ea9a39111",
     "showTitle": false,
     "tableResultSettingsMap": {},
     "title": ""
    }
   },
   "outputs": [],
   "source": [
    "import pandas as pd\n",
    "import matplotlib.pyplot as plt\n",
    "\n",
    "# Garantir que a data esteja no formato datetime\n",
    "df['data_compra'] = pd.to_datetime(df['data_compra'])\n",
    "\n",
    "# Criar coluna mês/ano\n",
    "df['mes_ano'] = df['data_compra'].dt.to_period('M')\n",
    "\n",
    "# Agrupar por mês e gênero, somando o valor das compras\n",
    "valor_por_genero = df.groupby(['mes_ano', 'genero'])['valor_compra'].sum().unstack(fill_value=0)\n",
    "valor_por_genero['Total'] = valor_por_genero.sum(axis=1)\n",
    "\n",
    "# Converter índice para string para plotagem\n",
    "meses = valor_por_genero.index\n",
    "\n",
    "# Plotar gráfico de linha\n",
    "plt.figure(figsize=(7.2, 3.6))\n",
    "plt.plot(valor_por_genero.index.astype(str), valor_por_genero['Masculino']/1000, marker='s', label='Masculino', alpha=0.7)\n",
    "plt.plot(valor_por_genero.index.astype(str), valor_por_genero['Feminino']/1000, marker='o', label='Feminino', alpha=0.7)\n",
    "plt.plot(valor_por_genero.index.astype(str), valor_por_genero['Outro']/1000, marker='.', label='Outro', alpha=0.7)\n",
    "plt.plot(valor_por_genero.index.astype(str), valor_por_genero['Total']/1000, color='black', linestyle='--', marker='^', label='Total', alpha=0.7)\n",
    "plt.xlabel('Mês/Ano')\n",
    "plt.ylabel('Valor Total de Compras (milhares R$)')\n",
    "plt.yticks(ticks=np.arange(0, 13, 2))\n",
    "plt.xticks(ticks=np.arange(0, len(meses), 3), labels=meses[::3], rotation=45)\n",
    "plt.legend(ncols=4)\n",
    "plt.grid(True, alpha=0.25)\n",
    "plt.tight_layout()\n",
    "plt.show()\n",
    "\n",
    "print(f\"Média: {valor_por_genero['Total'].mean():.2f}\")\n",
    "print(f\"Desvio padrão: {valor_por_genero['Total'].std():.2f}\")\n"
   ]
  },
  {
   "cell_type": "markdown",
   "metadata": {
    "application/vnd.databricks.v1+cell": {
     "cellMetadata": {
      "byteLimit": 2048000,
      "rowLimit": 10000
     },
     "inputWidgets": {},
     "nuid": "17774cc8-10cf-4d46-a3b7-d221a5d37a7a",
     "showTitle": false,
     "tableResultSettingsMap": {},
     "title": ""
    }
   },
   "source": [
    "### Custo acumulado"
   ]
  },
  {
   "cell_type": "code",
   "execution_count": 0,
   "metadata": {
    "application/vnd.databricks.v1+cell": {
     "cellMetadata": {
      "byteLimit": 2048000,
      "rowLimit": 10000
     },
     "inputWidgets": {},
     "nuid": "c39529b1-e2b5-41a5-a901-957f08065c95",
     "showTitle": false,
     "tableResultSettingsMap": {},
     "title": ""
    }
   },
   "outputs": [],
   "source": [
    "\n",
    "\n",
    "# Plotar gráfico de linha acumulado\n",
    "plt.figure(figsize=(7.2, 3.6))\n",
    "macador = ['s', 'o', '.', '^']\n",
    "for i, col in enumerate(['Masculino', 'Feminino', 'Outro', \"Total\"]):\n",
    "    plt.plot(valor_acumulado.index.astype(str), valor_acumulado[col]/1000, marker=macador[i], alpha=0.75, label=col)\n",
    "plt.xlabel('Mês/Ano')\n",
    "plt.ylabel('Valor Acumulado (milhares R$)')\n",
    "plt.xticks(ticks=np.arange(0, len(meses), 3), labels=meses[::3], rotation=45)\n",
    "plt.legend()\n",
    "plt.grid(True, alpha=0.25)\n",
    "plt.tight_layout()\n",
    "plt.show()"
   ]
  },
  {
   "cell_type": "code",
   "execution_count": 0,
   "metadata": {
    "application/vnd.databricks.v1+cell": {
     "cellMetadata": {
      "byteLimit": 2048000,
      "rowLimit": 10000
     },
     "inputWidgets": {},
     "nuid": "11350d64-23b4-4cf1-a70b-1d8fe26974cc",
     "showTitle": false,
     "tableResultSettingsMap": {},
     "title": ""
    }
   },
   "outputs": [],
   "source": [
    "from sklearn.linear_model import LinearRegression\n",
    "from sklearn.metrics import r2_score\n",
    "\n",
    "# Calcular valores acumulados\n",
    "valor_acumulado = valor_por_genero.cumsum()\n",
    "\n",
    "# Regressão linear\n",
    "X = np.arange(len(valor_por_genero.index)).reshape(-1, 1)  # variável independente\n",
    "y = valor_acumulado['Total'].to_numpy().reshape(-1, 1)  # variável dependente\n",
    "model = LinearRegression()\n",
    "model.fit(X, y)\n",
    "coef = model.coef_[0]\n",
    "print(\"Receita marginal (R$/mensal): R${:.2f}\".format(coef[0]))\n",
    "y_pred = model.predict(X)\n",
    "r2 = r2_score(y, y_pred)\n",
    "print(f\"Score r2: {r2:.2f}\")\n",
    "\n",
    "# Plotar gráfico de linha acumulado\n",
    "plt.figure(figsize=(7.2, 3.6))\n",
    "macador = ['s', 'o', '.', '^']\n",
    "for i, col in enumerate(['Masculino', 'Feminino', 'Outro', \"Total\"]):\n",
    "    plt.plot(valor_acumulado.index.astype(str), valor_acumulado[col]/1000, marker=macador[i], alpha=0.75, label=col)\n",
    "plt.plot(valor_acumulado.index.astype(str), y_pred/1000, color='black', linestyle='--', label='Tendência')\n",
    "plt.xlabel('Mês/Ano')\n",
    "plt.ylabel('Valor Acumulado (milhares R$)')\n",
    "plt.xticks(ticks=np.arange(0, len(meses), 3), labels=meses[::3], rotation=45)\n",
    "plt.legend(ncols=2)\n",
    "plt.grid(True, alpha=0.25)\n",
    "plt.tight_layout()\n",
    "plt.show()"
   ]
  }
 ],
 "metadata": {
  "application/vnd.databricks.v1+notebook": {
   "computePreferences": null,
   "dashboards": [],
   "environmentMetadata": {
    "base_environment": "",
    "environment_version": "3"
   },
   "inputWidgetPreferences": null,
   "language": "python",
   "notebookMetadata": {
    "pythonIndentUnit": 4
   },
   "notebookName": "parte2-pandas",
   "widgets": {}
  },
  "language_info": {
   "name": "python"
  }
 },
 "nbformat": 4,
 "nbformat_minor": 0
}
